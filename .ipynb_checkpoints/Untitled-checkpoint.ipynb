{
 "cells": [
  {
   "cell_type": "code",
   "execution_count": 1,
   "id": "f9902fed-d761-404b-877a-1b1d0e51550d",
   "metadata": {},
   "outputs": [],
   "source": [
    "import mysql.connector as connector"
   ]
  },
  {
   "cell_type": "code",
   "execution_count": 2,
   "id": "c02d2f55-5d4d-4c87-bf88-ed08a029e02e",
   "metadata": {},
   "outputs": [],
   "source": [
    "connection = connector.connect(user = \"capstoneuser\", password = \"capstonepassword123\")"
   ]
  },
  {
   "cell_type": "code",
   "execution_count": 5,
   "id": "8c16fd85-0d0b-4f1c-844d-50e6c123f74a",
   "metadata": {},
   "outputs": [],
   "source": [
    "#Task 1 connecting to the database\n",
    "connection = connector.connect(user = \"capstoneuser\", password = \"capstonepassword123\", db = \"littlelemondm\") "
   ]
  },
  {
   "cell_type": "code",
   "execution_count": 6,
   "id": "8be1c290-70d5-4830-8c32-4b75584b55ad",
   "metadata": {},
   "outputs": [],
   "source": [
    "#Task 2: showing tables\n",
    "cursor = connection.cursor()\n",
    "show_tables_query = \"SHOW tables\" \n",
    "cursor.execute(show_tables_query)"
   ]
  },
  {
   "cell_type": "code",
   "execution_count": 7,
   "id": "1caa8d95-f08c-40a3-b6fa-7c283913f38c",
   "metadata": {},
   "outputs": [
    {
     "name": "stdout",
     "output_type": "stream",
     "text": [
      "[('bookings',), ('customers',), ('menu',), ('orderdeliverystatus',), ('orders',), ('staff',)]\n"
     ]
    }
   ],
   "source": [
    "#showing results \n",
    "results = cursor.fetchall()\n",
    "print(results)"
   ]
  },
  {
   "cell_type": "code",
   "execution_count": null,
   "id": "e6e0430e-4969-47f5-abf9-bf53e6c57929",
   "metadata": {},
   "outputs": [],
   "source": [
    "#Task 3: Query with table JOIN\n",
    "join_query = ''' SELECT Customers.CustomerFullName, Customers.PhoneNumber, Customers.Email, Orders.Cost \n",
    "                 FROM Customers INNER JOIN  Orders ON Customers.CustomerID = Orders.Customer\n",
    "                 WHERE Orders.Cost > 60;'''\n",
    "cursor.execute(join_query)"
   ]
  }
 ],
 "metadata": {
  "kernelspec": {
   "display_name": "Python 3 (ipykernel)",
   "language": "python",
   "name": "python3"
  },
  "language_info": {
   "codemirror_mode": {
    "name": "ipython",
    "version": 3
   },
   "file_extension": ".py",
   "mimetype": "text/x-python",
   "name": "python",
   "nbconvert_exporter": "python",
   "pygments_lexer": "ipython3",
   "version": "3.10.4"
  }
 },
 "nbformat": 4,
 "nbformat_minor": 5
}
